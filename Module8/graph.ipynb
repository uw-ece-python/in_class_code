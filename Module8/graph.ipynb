{
 "cells": [
  {
   "cell_type": "markdown",
   "metadata": {
    "collapsed": true,
    "jupyter": {
     "outputs_hidden": true
    }
   },
   "source": [
    "## Graph "
   ]
  },
  {
   "cell_type": "code",
   "execution_count": 61,
   "metadata": {},
   "outputs": [],
   "source": [
    "\n",
    "\n",
    "class Node():\n",
    "    def __init__(self, data): \n",
    "        self.data = data\n",
    "        self.neighbors = []\n",
    "\n",
    "    def __str__(self): \n",
    "        return str(self.data)\n",
    "\n",
    "\n",
    "        "
   ]
  },
  {
   "cell_type": "code",
   "execution_count": 38,
   "metadata": {},
   "outputs": [],
   "source": [
    "\n",
    "## G = (V, E)\n",
    "class Graph():\n",
    "    def __init__(self): \n",
    "        self.nodes =[]\n",
    "        \n",
    "    def add_node(self, node):\n",
    "        ## add node self.nodes\n",
    "        self.nodes.append(node)\n",
    "        pass\n",
    "\n",
    "    def add_edge(self, source, target): \n",
    "        ## TODO: Check that both nodes exist\n",
    "        for node in self.nodes: \n",
    "            if node is source: \n",
    "                source.neighbors.append(target)\n",
    "\n",
    "    def print(self): \n",
    "        queue = []\n",
    "        queue.append(self.nodes[0])\n",
    "        while len(queue) > 0: \n",
    "            cur_node = queue.pop(0) \n",
    "            print(cur_node)\n",
    "            for neighbor in cur_node.neighbors: \n",
    "                print(f\"Putting neighbor of {cur_node} in queue: {neighbor}\")\n",
    "                queue.append(neighbor)\n",
    "            print(queue)\n",
    "        print(\"done printing graph\")\n",
    "\n",
    "    # def __repr__(self): \n",
    "    #     return self.__str__()\n",
    "        "
   ]
  },
  {
   "cell_type": "code",
   "execution_count": 45,
   "metadata": {},
   "outputs": [],
   "source": [
    "g_node = Node(\"G\")\n",
    "a_node = Node(\"A\")\n",
    "f_node = Node(\"F\")\n",
    "\n",
    "graph = Graph()\n",
    "graph.add_node(g_node)\n",
    "graph.add_node(a_node)\n",
    "graph.add_node(f_node)\n",
    "\n"
   ]
  },
  {
   "cell_type": "code",
   "execution_count": 46,
   "metadata": {},
   "outputs": [],
   "source": [
    "graph.add_edge(g_node, a_node)\n",
    "graph.add_edge(g_node, f_node)"
   ]
  },
  {
   "cell_type": "code",
   "execution_count": 53,
   "metadata": {},
   "outputs": [
    {
     "name": "stdout",
     "output_type": "stream",
     "text": [
      "<__main__.Graph object at 0x104fbbaf0>\n"
     ]
    }
   ],
   "source": [
    "print(graph)\n"
   ]
  },
  {
   "cell_type": "code",
   "execution_count": 54,
   "metadata": {},
   "outputs": [
    {
     "name": "stdout",
     "output_type": "stream",
     "text": [
      "G\n",
      "Putting neighbor of G in queue: A\n",
      "Putting neighbor of G in queue: F\n",
      "[<__main__.Node object at 0x1072e2490>, <__main__.Node object at 0x10501f6d0>]\n",
      "A\n",
      "Putting neighbor of A in queue: C\n",
      "Putting neighbor of A in queue: B\n",
      "[<__main__.Node object at 0x10501f6d0>, <__main__.Node object at 0x1073e6ca0>, <__main__.Node object at 0x10501f520>]\n",
      "F\n",
      "Putting neighbor of F in queue: E\n",
      "Putting neighbor of F in queue: E\n",
      "[<__main__.Node object at 0x1073e6ca0>, <__main__.Node object at 0x10501f520>, <__main__.Node object at 0x1072edbe0>, <__main__.Node object at 0x1072edbe0>]\n",
      "C\n",
      "Putting neighbor of C in queue: F\n",
      "Putting neighbor of C in queue: E\n",
      "[<__main__.Node object at 0x10501f520>, <__main__.Node object at 0x1072edbe0>, <__main__.Node object at 0x1072edbe0>, <__main__.Node object at 0x10501f6d0>, <__main__.Node object at 0x1072edbe0>]\n",
      "B\n",
      "Putting neighbor of B in queue: C\n",
      "Putting neighbor of B in queue: D\n",
      "[<__main__.Node object at 0x1072edbe0>, <__main__.Node object at 0x1072edbe0>, <__main__.Node object at 0x10501f6d0>, <__main__.Node object at 0x1072edbe0>, <__main__.Node object at 0x1073e6ca0>, <__main__.Node object at 0x1072eddf0>]\n",
      "E\n",
      "Putting neighbor of E in queue: D\n",
      "[<__main__.Node object at 0x1072edbe0>, <__main__.Node object at 0x10501f6d0>, <__main__.Node object at 0x1072edbe0>, <__main__.Node object at 0x1073e6ca0>, <__main__.Node object at 0x1072eddf0>, <__main__.Node object at 0x1072eddf0>]\n",
      "E\n",
      "Putting neighbor of E in queue: D\n",
      "[<__main__.Node object at 0x10501f6d0>, <__main__.Node object at 0x1072edbe0>, <__main__.Node object at 0x1073e6ca0>, <__main__.Node object at 0x1072eddf0>, <__main__.Node object at 0x1072eddf0>, <__main__.Node object at 0x1072eddf0>]\n",
      "F\n",
      "Putting neighbor of F in queue: E\n",
      "Putting neighbor of F in queue: E\n",
      "[<__main__.Node object at 0x1072edbe0>, <__main__.Node object at 0x1073e6ca0>, <__main__.Node object at 0x1072eddf0>, <__main__.Node object at 0x1072eddf0>, <__main__.Node object at 0x1072eddf0>, <__main__.Node object at 0x1072edbe0>, <__main__.Node object at 0x1072edbe0>]\n",
      "E\n",
      "Putting neighbor of E in queue: D\n",
      "[<__main__.Node object at 0x1073e6ca0>, <__main__.Node object at 0x1072eddf0>, <__main__.Node object at 0x1072eddf0>, <__main__.Node object at 0x1072eddf0>, <__main__.Node object at 0x1072edbe0>, <__main__.Node object at 0x1072edbe0>, <__main__.Node object at 0x1072eddf0>]\n",
      "C\n",
      "Putting neighbor of C in queue: F\n",
      "Putting neighbor of C in queue: E\n",
      "[<__main__.Node object at 0x1072eddf0>, <__main__.Node object at 0x1072eddf0>, <__main__.Node object at 0x1072eddf0>, <__main__.Node object at 0x1072edbe0>, <__main__.Node object at 0x1072edbe0>, <__main__.Node object at 0x1072eddf0>, <__main__.Node object at 0x10501f6d0>, <__main__.Node object at 0x1072edbe0>]\n",
      "D\n",
      "[<__main__.Node object at 0x1072eddf0>, <__main__.Node object at 0x1072eddf0>, <__main__.Node object at 0x1072edbe0>, <__main__.Node object at 0x1072edbe0>, <__main__.Node object at 0x1072eddf0>, <__main__.Node object at 0x10501f6d0>, <__main__.Node object at 0x1072edbe0>]\n",
      "D\n",
      "[<__main__.Node object at 0x1072eddf0>, <__main__.Node object at 0x1072edbe0>, <__main__.Node object at 0x1072edbe0>, <__main__.Node object at 0x1072eddf0>, <__main__.Node object at 0x10501f6d0>, <__main__.Node object at 0x1072edbe0>]\n",
      "D\n",
      "[<__main__.Node object at 0x1072edbe0>, <__main__.Node object at 0x1072edbe0>, <__main__.Node object at 0x1072eddf0>, <__main__.Node object at 0x10501f6d0>, <__main__.Node object at 0x1072edbe0>]\n",
      "E\n",
      "Putting neighbor of E in queue: D\n",
      "[<__main__.Node object at 0x1072edbe0>, <__main__.Node object at 0x1072eddf0>, <__main__.Node object at 0x10501f6d0>, <__main__.Node object at 0x1072edbe0>, <__main__.Node object at 0x1072eddf0>]\n",
      "E\n",
      "Putting neighbor of E in queue: D\n",
      "[<__main__.Node object at 0x1072eddf0>, <__main__.Node object at 0x10501f6d0>, <__main__.Node object at 0x1072edbe0>, <__main__.Node object at 0x1072eddf0>, <__main__.Node object at 0x1072eddf0>]\n",
      "D\n",
      "[<__main__.Node object at 0x10501f6d0>, <__main__.Node object at 0x1072edbe0>, <__main__.Node object at 0x1072eddf0>, <__main__.Node object at 0x1072eddf0>]\n",
      "F\n",
      "Putting neighbor of F in queue: E\n",
      "Putting neighbor of F in queue: E\n",
      "[<__main__.Node object at 0x1072edbe0>, <__main__.Node object at 0x1072eddf0>, <__main__.Node object at 0x1072eddf0>, <__main__.Node object at 0x1072edbe0>, <__main__.Node object at 0x1072edbe0>]\n",
      "E\n",
      "Putting neighbor of E in queue: D\n",
      "[<__main__.Node object at 0x1072eddf0>, <__main__.Node object at 0x1072eddf0>, <__main__.Node object at 0x1072edbe0>, <__main__.Node object at 0x1072edbe0>, <__main__.Node object at 0x1072eddf0>]\n",
      "D\n",
      "[<__main__.Node object at 0x1072eddf0>, <__main__.Node object at 0x1072edbe0>, <__main__.Node object at 0x1072edbe0>, <__main__.Node object at 0x1072eddf0>]\n",
      "D\n",
      "[<__main__.Node object at 0x1072edbe0>, <__main__.Node object at 0x1072edbe0>, <__main__.Node object at 0x1072eddf0>]\n",
      "E\n",
      "Putting neighbor of E in queue: D\n",
      "[<__main__.Node object at 0x1072edbe0>, <__main__.Node object at 0x1072eddf0>, <__main__.Node object at 0x1072eddf0>]\n",
      "E\n",
      "Putting neighbor of E in queue: D\n",
      "[<__main__.Node object at 0x1072eddf0>, <__main__.Node object at 0x1072eddf0>, <__main__.Node object at 0x1072eddf0>]\n",
      "D\n",
      "[<__main__.Node object at 0x1072eddf0>, <__main__.Node object at 0x1072eddf0>]\n",
      "D\n",
      "[<__main__.Node object at 0x1072eddf0>]\n",
      "D\n",
      "[]\n",
      "done printing graph\n"
     ]
    }
   ],
   "source": [
    "graph.print()"
   ]
  },
  {
   "cell_type": "code",
   "execution_count": 47,
   "metadata": {},
   "outputs": [],
   "source": [
    "c_node = Node(\"C\")\n",
    "b_node = Node(\"B\")\n",
    "e_node = Node(\"E\")\n",
    "d_node = Node(\"D\")"
   ]
  },
  {
   "cell_type": "code",
   "execution_count": 48,
   "metadata": {},
   "outputs": [],
   "source": [
    "graph.add_node(c_node)\n",
    "graph.add_node(b_node)\n",
    "graph.add_node(e_node)\n",
    "graph.add_node(d_node)\n",
    "graph.add_node(f_node)"
   ]
  },
  {
   "cell_type": "code",
   "execution_count": 49,
   "metadata": {},
   "outputs": [],
   "source": [
    "graph.add_edge(c_node, f_node)"
   ]
  },
  {
   "cell_type": "code",
   "execution_count": 50,
   "metadata": {},
   "outputs": [],
   "source": [
    "graph.add_edge(a_node, c_node)"
   ]
  },
  {
   "cell_type": "code",
   "execution_count": 51,
   "metadata": {},
   "outputs": [],
   "source": [
    "graph.add_edge(a_node, b_node)\n",
    "graph.add_edge(b_node, c_node)\n",
    "graph.add_edge(c_node, e_node)\n",
    "graph.add_edge(b_node, d_node)\n",
    "graph.add_edge(e_node, d_node)"
   ]
  },
  {
   "cell_type": "code",
   "execution_count": 52,
   "metadata": {},
   "outputs": [],
   "source": [
    "graph.add_edge(f_node, e_node)"
   ]
  },
  {
   "cell_type": "markdown",
   "metadata": {},
   "source": [
    "### Expected BFS traversal\n",
    "\n",
    "\n",
    "* G \n",
    "    * A\n",
    "    * F\n",
    "        * C\n",
    "        * B\n",
    "        * E\n",
    "            * E\n",
    "            * F\n",
    "            * C\n",
    "            * D\n",
    "            * D\n",
    "                * D\n",
    "                * E\n",
    "                * F\n",
    "                * E\n",
    "                    * D\n",
    "                    * E\n",
    "                    * E\n",
    "                        * D\n",
    "                        * D\n",
    "                \n",
    "            "
   ]
  },
  {
   "cell_type": "markdown",
   "metadata": {},
   "source": [
    "Above shows the BFS traversal of our graph. As we saw in class, we can use BFS to find a path from one node to another in the shortest amount of steps (ignoring edges weights). \n",
    "\n",
    "Here's an example of how we could do that:\n"
   ]
  },
  {
   "cell_type": "code",
   "execution_count": null,
   "metadata": {},
   "outputs": [],
   "source": [
    "## Not done in class\n",
    "def bfs_find_path(graph, source, target): \n",
    "    queue = []\n",
    "    queue.append(graph.nodes[source.id])\n",
    "    while len(queue) > 0: \n",
    "        cur_node = queue.pop(0) \n",
    "        print(cur_node)\n",
    "        if (cur_node == target)\n",
    "        for neighbor in cur_node.neighbors: \n",
    "            print(f\"Putting neighbor of {cur_node} in queue: {neighbor}\")\n",
    "            queue.append(neighbor)\n",
    "    print(\"done printing graph\")"
   ]
  },
  {
   "cell_type": "code",
   "execution_count": 70,
   "metadata": {},
   "outputs": [],
   "source": [
    "def dfs_graph(graph): \n",
    "    stack = []\n",
    "    stack.append(graph.nodes[0])\n",
    "    while len(stack) > 0: \n",
    "        cur_node = stack.pop() \n",
    "        print(cur_node)\n",
    "        for neighbor in cur_node.neighbors: \n",
    "            print(f\"Putting neighbor of {cur_node} in stack: {neighbor}\")\n",
    "            stack.append(neighbor)\n",
    "    print(\"done printing graph\")"
   ]
  },
  {
   "cell_type": "code",
   "execution_count": 56,
   "metadata": {},
   "outputs": [
    {
     "name": "stdout",
     "output_type": "stream",
     "text": [
      "G\n",
      "Putting neighbor of G in stack: A\n",
      "Putting neighbor of G in stack: F\n",
      "F\n",
      "Putting neighbor of F in stack: E\n",
      "Putting neighbor of F in stack: E\n",
      "E\n",
      "Putting neighbor of E in stack: D\n",
      "D\n",
      "E\n",
      "Putting neighbor of E in stack: D\n",
      "D\n",
      "A\n",
      "Putting neighbor of A in stack: C\n",
      "Putting neighbor of A in stack: B\n",
      "B\n",
      "Putting neighbor of B in stack: C\n",
      "Putting neighbor of B in stack: D\n",
      "D\n",
      "C\n",
      "Putting neighbor of C in stack: F\n",
      "Putting neighbor of C in stack: E\n",
      "E\n",
      "Putting neighbor of E in stack: D\n",
      "D\n",
      "F\n",
      "Putting neighbor of F in stack: E\n",
      "Putting neighbor of F in stack: E\n",
      "E\n",
      "Putting neighbor of E in stack: D\n",
      "D\n",
      "E\n",
      "Putting neighbor of E in stack: D\n",
      "D\n",
      "C\n",
      "Putting neighbor of C in stack: F\n",
      "Putting neighbor of C in stack: E\n",
      "E\n",
      "Putting neighbor of E in stack: D\n",
      "D\n",
      "F\n",
      "Putting neighbor of F in stack: E\n",
      "Putting neighbor of F in stack: E\n",
      "E\n",
      "Putting neighbor of E in stack: D\n",
      "D\n",
      "E\n",
      "Putting neighbor of E in stack: D\n",
      "D\n",
      "done printing graph\n"
     ]
    }
   ],
   "source": [
    "dfs_graph(graph)"
   ]
  },
  {
   "cell_type": "code",
   "execution_count": 59,
   "metadata": {},
   "outputs": [],
   "source": [
    "\n",
    "def top_sort(graph): \n",
    "    in_degree = [0] * len(graph.nodes)\n",
    "    output_order = []\n",
    "    for node in graph.nodes: \n",
    "        for v in node.neighbors: \n",
    "            ## This is messy-- basically, needed a way to find the right thing to change in in_degree\n",
    "            # for index, foo in enumerate(graph.nodes): \n",
    "            #     if foo == v: \n",
    "            #         in_degree[index] += 1\n",
    "            in_degree[graph.nodes.index(v)] += 1\n",
    "    next = []\n",
    "    for index, deg in enumerate(in_degree):\n",
    "        if deg == 0:\n",
    "            next.append(graph.nodes[index])\n",
    "    while len(next) > 0:\n",
    "        next_node = next.pop()\n",
    "        output_order.append(next_node.data)\n",
    "        for v in next_node.neighbors: \n",
    "            ## This is messy-- basically, needed a way to find the right thing to change in in_degree\n",
    "            for index, foo in enumerate(graph.nodes): \n",
    "                if foo == v: \n",
    "                    in_degree[index] -= 1\n",
    "                    if in_degree[index] == 0:\n",
    "                        next.append(foo)\n",
    "    \n",
    "    for item in output_order:\n",
    "        print(item)"
   ]
  },
  {
   "cell_type": "code",
   "execution_count": 60,
   "metadata": {},
   "outputs": [
    {
     "name": "stdout",
     "output_type": "stream",
     "text": [
      "F\n",
      "G\n",
      "A\n",
      "B\n",
      "C\n",
      "F\n",
      "E\n",
      "D\n"
     ]
    }
   ],
   "source": [
    "top_sort(graph)"
   ]
  },
  {
   "cell_type": "markdown",
   "metadata": {},
   "source": [
    "## Improved Implementation\n",
    "\n",
    "Below is a version of the Node/Graph that we implemented in class, with a few modifications. \n",
    "\n",
    "* I added an \"id\" attribute to Node\n",
    "   * When a node gets added to a graph, the graph assigns the ID\n",
    "   * This makes it easier to find the node in the graph later\n",
    "* "
   ]
  },
  {
   "cell_type": "code",
   "execution_count": 78,
   "metadata": {},
   "outputs": [],
   "source": [
    "class Node():\n",
    "    def __init__(self, data): \n",
    "        self.data = data\n",
    "        self.neighbors = []\n",
    "        self.id = -1\n",
    "        self.path = \"\" ## Use this for BFS Find Path\n",
    "\n",
    "    def __str__(self): \n",
    "        return str(self.data)"
   ]
  },
  {
   "cell_type": "code",
   "execution_count": 75,
   "metadata": {},
   "outputs": [],
   "source": [
    "class Graph():\n",
    "    def __init__(self): \n",
    "        self.nodes =[]\n",
    "        \n",
    "    def add_node(self, node):\n",
    "        ## add node self.nodes\n",
    "        node.id = len(self.nodes)\n",
    "        self.nodes.append(node)\n",
    "        pass\n",
    "\n",
    "    def add_edge(self, source, target): \n",
    "        ## TODO: Check that both nodes exist in the graph\n",
    "        ## Also: Could just add the target node to the source, without iterating\n",
    "        ## Since source has an id, can add as below: \n",
    "        self.nodes[source.id].neighbors.append(target)\n",
    "\n",
    "    def print(self): \n",
    "        queue = []\n",
    "        queue.append(self.nodes[0])\n",
    "        while len(queue) > 0: \n",
    "            cur_node = queue.pop(0) \n",
    "            print(cur_node)\n",
    "            for neighbor in cur_node.neighbors: \n",
    "                print(f\"Putting neighbor of {cur_node} in queue: {neighbor}\")\n",
    "                queue.append(neighbor)\n",
    "            print(queue)\n",
    "        print(\"done printing graph\")\n"
   ]
  },
  {
   "cell_type": "markdown",
   "metadata": {},
   "source": [
    "Below is the ENTIRE graph, instead of in multiple cells"
   ]
  },
  {
   "cell_type": "code",
   "execution_count": 76,
   "metadata": {},
   "outputs": [],
   "source": [
    "g_node = Node(\"G\")\n",
    "a_node = Node(\"A\")\n",
    "f_node = Node(\"F\")\n",
    "c_node = Node(\"C\")\n",
    "b_node = Node(\"B\")\n",
    "e_node = Node(\"E\")\n",
    "d_node = Node(\"D\")\n",
    "\n",
    "graph = Graph()\n",
    "graph.add_node(g_node)\n",
    "graph.add_node(a_node)\n",
    "graph.add_node(f_node)\n",
    "graph.add_node(c_node)\n",
    "graph.add_node(b_node)\n",
    "graph.add_node(e_node)\n",
    "graph.add_node(d_node)\n",
    "\n",
    "graph.add_edge(g_node, a_node)\n",
    "graph.add_edge(g_node, f_node)\n",
    "graph.add_edge(a_node, b_node)\n",
    "graph.add_edge(a_node, c_node)\n",
    "\n",
    "graph.add_edge(b_node, c_node)\n",
    "graph.add_edge(b_node, d_node)\n",
    "\n",
    "graph.add_edge(c_node, e_node)\n",
    "graph.add_edge(c_node, f_node)\n",
    "\n",
    "graph.add_edge(e_node, d_node)\n",
    "\n",
    "graph.add_edge(f_node, e_node)"
   ]
  },
  {
   "cell_type": "code",
   "execution_count": 77,
   "metadata": {},
   "outputs": [],
   "source": [
    "def topo_sort_alt(graph): \n",
    "    in_degree = [0] * len(graph.nodes)\n",
    "    output_order = []\n",
    "    for node in graph.nodes: \n",
    "        for v in node.neighbors: \n",
    "            in_degree[v.id] += 1\n",
    "    next = []\n",
    "    for index, deg in enumerate(in_degree):\n",
    "        if deg == 0:\n",
    "            next.append(graph.nodes[index])\n",
    "    while len(next) > 0:\n",
    "        next_node = next.pop()\n",
    "        output_order.append(next_node.data)\n",
    "        for v in next_node.neighbors: \n",
    "            in_degree[v.id] -= 1\n",
    "            if in_degree[v.id] == 0:\n",
    "                next.append(v)\n",
    "    \n",
    "    for item in output_order:\n",
    "        print(item)"
   ]
  },
  {
   "cell_type": "code",
   "execution_count": 66,
   "metadata": {},
   "outputs": [
    {
     "name": "stdout",
     "output_type": "stream",
     "text": [
      "G\n",
      "A\n",
      "B\n",
      "C\n",
      "F\n",
      "E\n",
      "D\n"
     ]
    }
   ],
   "source": [
    "topo_sort_alt(graph)"
   ]
  },
  {
   "cell_type": "code",
   "execution_count": null,
   "metadata": {},
   "outputs": [],
   "source": []
  },
  {
   "cell_type": "markdown",
   "metadata": {},
   "source": [
    "In class we saw the BFS traversal of our graph. As we saw in our first graph class, we can use BFS to find a path from one node to another in the shortest amount of steps (ignoring edges weights). \n",
    "\n",
    "Here's an example of how we could do that:\n"
   ]
  },
  {
   "cell_type": "code",
   "execution_count": 92,
   "metadata": {},
   "outputs": [],
   "source": [
    "## Not done in class\n",
    "def bfs_find_path(graph, source, target): \n",
    "    queue = []\n",
    "    queue.append(graph.nodes[source.id])\n",
    "    source.path = source.data\n",
    "    while len(queue) > 0: \n",
    "        cur_node = queue.pop(0) \n",
    "        print(cur_node)\n",
    "        if (cur_node == target):\n",
    "            print(\"path: \" + cur_node.path)\n",
    "            return\n",
    "        for neighbor in cur_node.neighbors: \n",
    "            if neighbor not in queue: ## Note: Here, we ensure we don't visit nodes we've already visited\n",
    "                ## Implementation detail: We could add a \"visited\" attribute to our node, rather than do this lookup\n",
    "                queue.append(neighbor)\n",
    "                neighbor.path = cur_node.path + \"-\" +  neighbor.data\n",
    "                print(f\"Putting neighbor of {cur_node} in queue: {neighbor}\")\n",
    "            \n",
    "  "
   ]
  },
  {
   "cell_type": "code",
   "execution_count": 90,
   "metadata": {},
   "outputs": [
    {
     "name": "stdout",
     "output_type": "stream",
     "text": [
      "G\n",
      "Putting neighbor of G in queue: A\n",
      "Putting neighbor of G in queue: F\n",
      "A\n",
      "Putting neighbor of A in queue: B\n",
      "Putting neighbor of A in queue: C\n",
      "F\n",
      "Putting neighbor of F in queue: E\n",
      "B\n",
      "Putting neighbor of B in queue: D\n",
      "C\n",
      "Putting neighbor of C in queue: F\n",
      "E\n",
      "D\n",
      "path: G-A-B-D\n"
     ]
    }
   ],
   "source": [
    "bfs_find_path(graph, g_node, d_node)"
   ]
  },
  {
   "cell_type": "markdown",
   "metadata": {},
   "source": [
    "# Undirected Graph\n",
    "\n",
    "Our implementations above are assuming a directed graph. For an undirected graph, we can either just add 2 edges during our construction process, or modify the Graph.add_edges() method:"
   ]
  },
  {
   "cell_type": "code",
   "execution_count": 94,
   "metadata": {},
   "outputs": [],
   "source": [
    "class GraphUndirected():\n",
    "    def __init__(self): \n",
    "        self.nodes =[]\n",
    "        \n",
    "    def add_node(self, node):\n",
    "        ## add node self.nodes\n",
    "        node.id = len(self.nodes)\n",
    "        self.nodes.append(node)\n",
    "        pass\n",
    "\n",
    "    def add_edge(self, source, target): \n",
    "        ## TODO: Check that both nodes exist in the graph\n",
    "        ## Also: Could just add the target node to the source, without iterating\n",
    "        ## Since source has an id, can add as below: \n",
    "        self.nodes[source.id].neighbors.append(target)\n",
    "        self.nodes[target.id].neighbors.append(source) ## <----- Undirected!!\n",
    "\n",
    "    def print(self): \n",
    "        queue = []\n",
    "        queue.append(self.nodes[0])\n",
    "        while len(queue) > 0: \n",
    "            cur_node = queue.pop(0) \n",
    "            print(cur_node)\n",
    "            for neighbor in cur_node.neighbors: \n",
    "                print(f\"Putting neighbor of {cur_node} in queue: {neighbor}\")\n",
    "                queue.append(neighbor)\n",
    "            print(queue)\n",
    "        print(\"done printing graph\")"
   ]
  },
  {
   "cell_type": "markdown",
   "metadata": {},
   "source": [
    "## Graph: Matrix implementation\n",
    "\n",
    "And a matrix implementation:"
   ]
  },
  {
   "cell_type": "code",
   "execution_count": 119,
   "metadata": {},
   "outputs": [],
   "source": [
    "class NodeMatrix(): \n",
    "    def __init__(self, data): \n",
    "        self.data = data\n",
    "        self.id = -1\n",
    "\n",
    "    def __str__(self): \n",
    "        return f\"Node{self.data}\""
   ]
  },
  {
   "cell_type": "code",
   "execution_count": 120,
   "metadata": {},
   "outputs": [],
   "source": [
    "class GraphMatrix():\n",
    "    def __init__(self, max_num_nodes): \n",
    "        self.max_num_nodes = max_num_nodes\n",
    "        self.nodes =[None] * max_num_nodes\n",
    "        self.edges =[None] * max_num_nodes\n",
    "        self.num_nodes = 0 ## Because we have to declare our matrix early, we have to keep track of how many cells are actually used\n",
    "        \n",
    "    def add_node(self, node):\n",
    "        node.id = self.num_nodes\n",
    "        self.nodes[node.id] = node ## Store the node AND the edge\n",
    "        self.edges[node.id] = [0] * self.max_num_nodes ## 0 means \"no edge\"\n",
    "        self.num_nodes += 1\n",
    "        pass\n",
    "\n",
    "    def add_edge(self, source, target): \n",
    "        ## TODO: Check that both nodes exist in the graph\n",
    "        ## Also: Could just add the target node to the source, without iterating\n",
    "        ## Since source has an id, can add as below: \n",
    "        self.edges[source.id][target.id] = 1 \n",
    "\n",
    "    def get_neighbors(self, source_id):\n",
    "        neighbors = []\n",
    "        for i in range(self.num_nodes):\n",
    "            if self.edges[source_id][i] == 1: \n",
    "                neighbors.append(i)\n",
    "\n",
    "        return neighbors\n",
    "\n",
    "    \n",
    "    def print(self): \n",
    "        queue = []\n",
    "        queue.append(self.nodes[0].id) ## Starting ID\n",
    "        while len(queue) > 0: \n",
    "            cur_node_id = queue.pop(0) \n",
    "            print(self.nodes[cur_node_id])\n",
    "            queue.extend(self.get_neighbors(cur_node_id))\n",
    "            \n",
    "        print(\"done printing graph\")"
   ]
  },
  {
   "cell_type": "code",
   "execution_count": 121,
   "metadata": {},
   "outputs": [],
   "source": [
    "## Creating the same graph as above, but Matrix\n",
    "g_node = NodeMatrix(\"G\")\n",
    "a_node = NodeMatrix(\"A\")\n",
    "f_node = NodeMatrix(\"F\")\n",
    "c_node = NodeMatrix(\"C\")\n",
    "b_node = NodeMatrix(\"B\")\n",
    "e_node = NodeMatrix(\"E\")\n",
    "d_node = NodeMatrix(\"D\")\n",
    "\n",
    "mgraph = GraphMatrix(15)\n",
    "mgraph.add_node(g_node)\n",
    "mgraph.add_node(a_node)\n",
    "mgraph.add_node(f_node)\n",
    "mgraph.add_node(c_node)\n",
    "mgraph.add_node(b_node)\n",
    "mgraph.add_node(e_node)\n",
    "mgraph.add_node(d_node)\n",
    "\n",
    "mgraph.add_edge(g_node, a_node)\n",
    "mgraph.add_edge(g_node, f_node)\n",
    "mgraph.add_edge(a_node, b_node)\n",
    "mgraph.add_edge(a_node, c_node)\n",
    "\n",
    "mgraph.add_edge(b_node, c_node)\n",
    "mgraph.add_edge(b_node, d_node)\n",
    "\n",
    "mgraph.add_edge(c_node, e_node)\n",
    "mgraph.add_edge(c_node, f_node)\n",
    "\n",
    "mgraph.add_edge(e_node, d_node)\n",
    "\n",
    "mgraph.add_edge(f_node, e_node)"
   ]
  },
  {
   "cell_type": "code",
   "execution_count": 122,
   "metadata": {},
   "outputs": [
    {
     "name": "stdout",
     "output_type": "stream",
     "text": [
      "NodeG\n",
      "NodeA\n",
      "NodeF\n",
      "NodeC\n",
      "NodeB\n",
      "NodeE\n",
      "NodeF\n",
      "NodeE\n",
      "NodeC\n",
      "NodeD\n",
      "NodeD\n",
      "NodeE\n",
      "NodeD\n",
      "NodeF\n",
      "NodeE\n",
      "NodeD\n",
      "NodeE\n",
      "NodeD\n",
      "NodeD\n",
      "done printing graph\n"
     ]
    }
   ],
   "source": [
    "mgraph.print()"
   ]
  },
  {
   "cell_type": "markdown",
   "metadata": {},
   "source": [
    "For toposort using a matrix, we need to do things just a bit different. Primarily, we're working with node IDs rather than the nodes themselves. \n",
    "\n",
    "Most importantly, we hide some of the complexity by using graph get_neighbors() helper method. The time penalty doesn't really matter on a small graph, but once it gets big.... !! "
   ]
  },
  {
   "cell_type": "code",
   "execution_count": 125,
   "metadata": {},
   "outputs": [],
   "source": [
    "def topo_sort_matrix(graph:GraphMatrix): \n",
    "    in_degree = [0] * graph.num_nodes\n",
    "    output_order = []\n",
    "    # for node in graph.nodes: \n",
    "    #     for v in node.neighbors: \n",
    "    #         in_degree[v.id] += 1\n",
    "    for i in range(graph.num_nodes):\n",
    "        for v in graph.get_neighbors(i):\n",
    "            in_degree[v] += 1\n",
    "    next = []\n",
    "    for index, deg in enumerate(in_degree):\n",
    "        if deg == 0:\n",
    "            next.append(index)\n",
    "    while len(next) > 0:\n",
    "        next_node_id = next.pop()\n",
    "        output_order.append(graph.nodes[next_node_id].data)\n",
    "        for v in graph.get_neighbors(next_node_id): \n",
    "            in_degree[v] -= 1\n",
    "            if in_degree[v] == 0:\n",
    "                next.append(v)\n",
    "    \n",
    "    for item in output_order:\n",
    "        print(item)"
   ]
  },
  {
   "cell_type": "code",
   "execution_count": 126,
   "metadata": {},
   "outputs": [
    {
     "name": "stdout",
     "output_type": "stream",
     "text": [
      "G\n",
      "A\n",
      "B\n",
      "C\n",
      "F\n",
      "E\n",
      "D\n"
     ]
    }
   ],
   "source": [
    "topo_sort_matrix(mgraph)"
   ]
  },
  {
   "cell_type": "code",
   "execution_count": null,
   "metadata": {},
   "outputs": [],
   "source": []
  }
 ],
 "metadata": {
  "kernelspec": {
   "display_name": "Python 3 (ipykernel)",
   "language": "python",
   "name": "python3"
  },
  "language_info": {
   "codemirror_mode": {
    "name": "ipython",
    "version": 3
   },
   "file_extension": ".py",
   "mimetype": "text/x-python",
   "name": "python",
   "nbconvert_exporter": "python",
   "pygments_lexer": "ipython3",
   "version": "3.9.7"
  }
 },
 "nbformat": 4,
 "nbformat_minor": 4
}