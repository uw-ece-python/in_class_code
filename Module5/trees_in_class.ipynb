{
 "cells": [
  {
   "cell_type": "code",
   "execution_count": 1,
   "metadata": {},
   "outputs": [],
   "source": [
    "class TreeNode: \n",
    "    def __init__(self, payload): \n",
    "        self.payload = payload\n",
    "        self.left = None\n",
    "        self.right = None\n",
    "        self.parent = None \n"
   ]
  },
  {
   "cell_type": "code",
   "execution_count": 16,
   "metadata": {},
   "outputs": [],
   "source": [
    "def print_tree(tree): \n",
    "    if not tree: \n",
    "        return\n",
    "    print(tree.payload)\n",
    "    print_tree(tree.left)\n",
    "    print_tree(tree.right)"
   ]
  },
  {
   "cell_type": "code",
   "execution_count": 18,
   "metadata": {},
   "outputs": [],
   "source": [
    "def print_tree_alt(tree): \n",
    "    print(tree.payload)\n",
    "    if tree.left:  ## If we have a left child\n",
    "        print_tree_alt(tree.left)\n",
    "    if tree.right: \n",
    "        print_tree_alt(tree.right)"
   ]
  },
  {
   "cell_type": "code",
   "execution_count": 5,
   "metadata": {},
   "outputs": [],
   "source": [
    "joe = TreeNode(\"joe\")\n",
    "jane = TreeNode(\"jane\")\n",
    "dan = TreeNode(\"dan\")\n",
    "sadie = TreeNode(\"sadie\")\n",
    "stella = TreeNode(\"stella\")\n",
    "thomas = TreeNode(\"thomas\")"
   ]
  },
  {
   "cell_type": "code",
   "execution_count": 6,
   "metadata": {},
   "outputs": [],
   "source": [
    "joe.left = jane\n",
    "joe.right = dan\n",
    "jane.left = sadie\n",
    "jane.right = stella \n",
    "dan.left = thomas"
   ]
  },
  {
   "cell_type": "code",
   "execution_count": 19,
   "metadata": {},
   "outputs": [
    {
     "name": "stdout",
     "output_type": "stream",
     "text": [
      "joe\n",
      "jane\n",
      "sadie\n",
      "stella\n",
      "dan\n",
      "thomas\n"
     ]
    }
   ],
   "source": [
    "print_tree_alt(joe)"
   ]
  },
  {
   "cell_type": "code",
   "execution_count": 12,
   "metadata": {},
   "outputs": [],
   "source": [
    "def print_tree_stack(tree): \n",
    "    stack = []\n",
    "    stack.append(tree)\n",
    "    cur_node = stack.pop()\n",
    "    \n",
    "    while cur_node is not None: \n",
    "        print(cur_node.payload)\n",
    "        stack.append(cur_node.right)\n",
    "        stack.append(cur_node.left)\n",
    "        cur_node = stack.pop()\n",
    "        "
   ]
  },
  {
   "cell_type": "code",
   "execution_count": 22,
   "metadata": {},
   "outputs": [],
   "source": [
    "def print_tree_queue(tree): \n",
    "    queue = []\n",
    "    queue.append(tree)\n",
    "    cur_node = queue.pop(0)\n",
    "    \n",
    "    while cur_node is not None: \n",
    "        print(cur_node.payload)\n",
    "        queue.append(cur_node.left)\n",
    "        queue.append(cur_node.right)\n",
    "        cur_node = queue.pop(0)\n",
    "        "
   ]
  },
  {
   "cell_type": "code",
   "execution_count": 23,
   "metadata": {},
   "outputs": [
    {
     "name": "stdout",
     "output_type": "stream",
     "text": [
      "joe\n",
      "jane\n",
      "dan\n",
      "sadie\n",
      "stella\n",
      "thomas\n"
     ]
    }
   ],
   "source": [
    "print_tree_queue(joe)"
   ]
  },
  {
   "cell_type": "markdown",
   "metadata": {},
   "source": [
    "## Binary Search Tree\n"
   ]
  },
  {
   "cell_type": "code",
   "execution_count": 24,
   "metadata": {},
   "outputs": [],
   "source": [
    "class BinaryTreeNode: \n",
    "    def __init__(self, key, value): \n",
    "        self.key = key\n",
    "        self.value = value\n",
    "        self.left = None\n",
    "        self.right = None \n",
    "        "
   ]
  },
  {
   "cell_type": "code",
   "execution_count": 25,
   "metadata": {},
   "outputs": [],
   "source": [
    "def binary_tree_insert(root, key, value): \n",
    "    if not root: \n",
    "        root = BinaryTreeNode(key, value) \n",
    "    else: \n",
    "        if value < root.value: \n",
    "            root.left = binary_tree_insert(root.left, key, value)\n",
    "        else: \n",
    "            root.right = binary_tree_insert(root.right, key, value)\n",
    "    return root"
   ]
  },
  {
   "cell_type": "code",
   "execution_count": 26,
   "metadata": {},
   "outputs": [],
   "source": [
    "bst = binary_tree_insert(None, \"mustafa\", 25)"
   ]
  },
  {
   "cell_type": "code",
   "execution_count": 29,
   "metadata": {},
   "outputs": [],
   "source": [
    "def binary_tree_print(root): \n",
    "    if root is None:\n",
    "        return\n",
    "    print(f\"{root.key}: {root.value}\")\n",
    "    binary_tree_print(root.left)\n",
    "    binary_tree_print(root.right)"
   ]
  },
  {
   "cell_type": "code",
   "execution_count": 30,
   "metadata": {},
   "outputs": [
    {
     "name": "stdout",
     "output_type": "stream",
     "text": [
      "mustafa: 25\n"
     ]
    }
   ],
   "source": [
    "binary_tree_print(bst)"
   ]
  },
  {
   "cell_type": "code",
   "execution_count": 31,
   "metadata": {},
   "outputs": [
    {
     "name": "stdout",
     "output_type": "stream",
     "text": [
      "mustafa: 25\n",
      "jane: 15\n"
     ]
    }
   ],
   "source": [
    "bst = binary_tree_insert(bst, \"jane\", 15)\n",
    "binary_tree_print(bst)"
   ]
  },
  {
   "cell_type": "code",
   "execution_count": 32,
   "metadata": {},
   "outputs": [
    {
     "name": "stdout",
     "output_type": "stream",
     "text": [
      "mustafa: 25\n",
      "jane: 15\n",
      "jack: 100\n"
     ]
    }
   ],
   "source": [
    "bst = binary_tree_insert(bst, \"jack\", 100)\n",
    "binary_tree_print(bst)"
   ]
  },
  {
   "cell_type": "code",
   "execution_count": 33,
   "metadata": {},
   "outputs": [
    {
     "name": "stdout",
     "output_type": "stream",
     "text": [
      "mustafa: 25\n",
      "jane: 15\n",
      "jack: 100\n",
      "ben: 38\n"
     ]
    }
   ],
   "source": [
    "bst = binary_tree_insert(bst, \"ben\", 38)\n",
    "binary_tree_print(bst)"
   ]
  },
  {
   "cell_type": "code",
   "execution_count": 34,
   "metadata": {},
   "outputs": [],
   "source": [
    "bst = binary_tree_insert(bst, \"madison\", 52)\n",
    "bst = binary_tree_insert(bst, \"alec\", 5)\n",
    "bst = binary_tree_insert(bst, \"jim\", 17)"
   ]
  },
  {
   "cell_type": "code",
   "execution_count": 35,
   "metadata": {},
   "outputs": [
    {
     "name": "stdout",
     "output_type": "stream",
     "text": [
      "mustafa: 25\n",
      "jane: 15\n",
      "alec: 5\n",
      "jim: 17\n",
      "jack: 100\n",
      "ben: 38\n",
      "madison: 52\n"
     ]
    }
   ],
   "source": [
    "binary_tree_print(bst)"
   ]
  },
  {
   "cell_type": "code",
   "execution_count": 39,
   "metadata": {},
   "outputs": [],
   "source": [
    "def search_bst(tree, value): \n",
    "    if tree is None: \n",
    "        return\n",
    "    ## TODO: Return when we find the value!!!\n",
    "    print(f\"looking at node {tree.key}\")\n",
    "    if tree.value > value: \n",
    "        print(f\"going left\")\n",
    "        search_bst(tree.left, value)\n",
    "    else: \n",
    "        print(f\"going right\")\n",
    "        search_bst(tree.right, value)"
   ]
  },
  {
   "cell_type": "code",
   "execution_count": 40,
   "metadata": {},
   "outputs": [
    {
     "name": "stdout",
     "output_type": "stream",
     "text": [
      "looking at node mustafa\n",
      "going left\n",
      "looking at node jane\n",
      "going right\n",
      "looking at node jim\n",
      "going right\n"
     ]
    }
   ],
   "source": [
    "search_bst(bst, 17)"
   ]
  },
  {
   "cell_type": "code",
   "execution_count": null,
   "metadata": {},
   "outputs": [],
   "source": []
  }
 ],
 "metadata": {
  "kernelspec": {
   "display_name": "Python 3 (ipykernel)",
   "language": "python",
   "name": "python3"
  },
  "language_info": {
   "codemirror_mode": {
    "name": "ipython",
    "version": 3
   },
   "file_extension": ".py",
   "mimetype": "text/x-python",
   "name": "python",
   "nbconvert_exporter": "python",
   "pygments_lexer": "ipython3",
   "version": "3.9.7"
  }
 },
 "nbformat": 4,
 "nbformat_minor": 4
}
