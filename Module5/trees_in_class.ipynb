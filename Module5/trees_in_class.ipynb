{
 "cells": [
  {
   "cell_type": "code",
   "execution_count": 1,
   "metadata": {},
   "outputs": [],
   "source": [
    "class TreeNode: \n",
    "    def __init__(self, payload): \n",
    "        self.payload = payload\n",
    "        self.left = None\n",
    "        self.right = None\n",
    "        self.parent = None \n"
   ]
  },
  {
   "cell_type": "code",
   "execution_count": 16,
   "metadata": {},
   "outputs": [],
   "source": [
    "def print_tree(tree): \n",
    "    if not tree: \n",
    "        return\n",
    "    print(tree.payload)\n",
    "    print_tree(tree.left)\n",
    "    print_tree(tree.right)"
   ]
  },
  {
   "cell_type": "code",
   "execution_count": 18,
   "metadata": {},
   "outputs": [],
   "source": [
    "def print_tree_alt(tree): \n",
    "    print(tree.payload)\n",
    "    if tree.left:  ## If we have a left child\n",
    "        print_tree_alt(tree.left)\n",
    "    if tree.right: \n",
    "        print_tree_alt(tree.right)"
   ]
  },
  {
   "cell_type": "code",
   "execution_count": 5,
   "metadata": {},
   "outputs": [],
   "source": [
    "joe = TreeNode(\"joe\")\n",
    "jane = TreeNode(\"jane\")\n",
    "dan = TreeNode(\"dan\")\n",
    "sadie = TreeNode(\"sadie\")\n",
    "stella = TreeNode(\"stella\")\n",
    "thomas = TreeNode(\"thomas\")"
   ]
  },
  {
   "cell_type": "code",
   "execution_count": 6,
   "metadata": {},
   "outputs": [],
   "source": [
    "joe.left = jane\n",
    "joe.right = dan\n",
    "jane.left = sadie\n",
    "jane.right = stella \n",
    "dan.left = thomas"
   ]
  },
  {
   "cell_type": "code",
   "execution_count": 19,
   "metadata": {},
   "outputs": [
    {
     "name": "stdout",
     "output_type": "stream",
     "text": [
      "joe\n",
      "jane\n",
      "sadie\n",
      "stella\n",
      "dan\n",
      "thomas\n"
     ]
    }
   ],
   "source": [
    "print_tree_alt(joe)"
   ]
  },
  {
   "cell_type": "code",
   "execution_count": 12,
   "metadata": {},
   "outputs": [],
   "source": [
    "def print_tree_stack(tree): \n",
    "    stack = []\n",
    "    stack.append(tree)\n",
    "    cur_node = stack.pop()\n",
    "    \n",
    "    while cur_node is not None: \n",
    "        print(cur_node.payload)\n",
    "        stack.append(cur_node.right)\n",
    "        stack.append(cur_node.left)\n",
    "        cur_node = stack.pop()\n",
    "        "
   ]
  },
  {
   "cell_type": "code",
   "execution_count": 22,
   "metadata": {},
   "outputs": [],
   "source": [
    "def print_tree_queue(tree): \n",
    "    queue = []\n",
    "    queue.append(tree)\n",
    "    cur_node = queue.pop(0)\n",
    "    \n",
    "    while cur_node is not None: \n",
    "        print(cur_node.payload)\n",
    "        queue.append(cur_node.left)\n",
    "        queue.append(cur_node.right)\n",
    "        cur_node = queue.pop(0)\n",
    "        "
   ]
  },
  {
   "cell_type": "code",
   "execution_count": 23,
   "metadata": {},
   "outputs": [
    {
     "name": "stdout",
     "output_type": "stream",
     "text": [
      "joe\n",
      "jane\n",
      "dan\n",
      "sadie\n",
      "stella\n",
      "thomas\n"
     ]
    }
   ],
   "source": [
    "print_tree_queue(joe)"
   ]
  },
  {
   "cell_type": "markdown",
   "metadata": {},
   "source": [
    "## Binary Search Tree\n"
   ]
  },
  {
   "cell_type": "code",
   "execution_count": 17,
   "metadata": {},
   "outputs": [],
   "source": [
    "class BinaryTreeNode: \n",
    "    def __init__(self, key, value): \n",
    "        self.key = key\n",
    "        self.value = value\n",
    "        self.left = None\n",
    "        self.right = None \n",
    "        self.parent = None\n",
    "        "
   ]
  },
  {
   "cell_type": "code",
   "execution_count": 18,
   "metadata": {},
   "outputs": [],
   "source": [
    "def binary_tree_insert(root, key, value): \n",
    "    if not root: \n",
    "        root = BinaryTreeNode(key, value) \n",
    "    else: \n",
    "        if value < root.value: \n",
    "            root.left = binary_tree_insert(root.left, key, value)\n",
    "            root.left.parent = root\n",
    "        else: \n",
    "            root.right = binary_tree_insert(root.right, key, value)\n",
    "            root.right.parent = root\n",
    "    return root"
   ]
  },
  {
   "cell_type": "code",
   "execution_count": 19,
   "metadata": {},
   "outputs": [],
   "source": [
    "def binary_tree_print(root, level = 0): \n",
    "    if root is None:\n",
    "        return\n",
    "    for i in range(level):\n",
    "        print(\"-\", end=\"\")\n",
    "    print(f\"{root.key}: {root.value} \", end=\"\")\n",
    "    if root.parent: \n",
    "        print(f\"(my parent is {root.parent.key})\")\n",
    "    else: \n",
    "        print(\"\")\n",
    "    binary_tree_print(root.left, level + 1)\n",
    "    binary_tree_print(root.right, level + 1)"
   ]
  },
  {
   "cell_type": "code",
   "execution_count": 20,
   "metadata": {},
   "outputs": [],
   "source": [
    "bst = binary_tree_insert(None, \"mustafa\", 25)"
   ]
  },
  {
   "cell_type": "code",
   "execution_count": 21,
   "metadata": {},
   "outputs": [
    {
     "name": "stdout",
     "output_type": "stream",
     "text": [
      "mustafa: 25 \n"
     ]
    }
   ],
   "source": [
    "binary_tree_print(bst)"
   ]
  },
  {
   "cell_type": "code",
   "execution_count": 22,
   "metadata": {},
   "outputs": [
    {
     "name": "stdout",
     "output_type": "stream",
     "text": [
      "mustafa: 25 \n",
      "-jane: 15 (my parent is mustafa)\n"
     ]
    }
   ],
   "source": [
    "bst = binary_tree_insert(bst, \"jane\", 15)\n",
    "binary_tree_print(bst)"
   ]
  },
  {
   "cell_type": "code",
   "execution_count": 23,
   "metadata": {},
   "outputs": [
    {
     "name": "stdout",
     "output_type": "stream",
     "text": [
      "mustafa: 25 \n",
      "-jane: 15 (my parent is mustafa)\n",
      "-jack: 100 (my parent is mustafa)\n"
     ]
    }
   ],
   "source": [
    "bst = binary_tree_insert(bst, \"jack\", 100)\n",
    "binary_tree_print(bst)"
   ]
  },
  {
   "cell_type": "code",
   "execution_count": 24,
   "metadata": {},
   "outputs": [
    {
     "name": "stdout",
     "output_type": "stream",
     "text": [
      "mustafa: 25 \n",
      "-jane: 15 (my parent is mustafa)\n",
      "-jack: 100 (my parent is mustafa)\n",
      "--ben: 38 (my parent is jack)\n"
     ]
    }
   ],
   "source": [
    "bst = binary_tree_insert(bst, \"ben\", 38)\n",
    "binary_tree_print(bst)"
   ]
  },
  {
   "cell_type": "code",
   "execution_count": 25,
   "metadata": {},
   "outputs": [],
   "source": [
    "bst = binary_tree_insert(bst, \"madison\", 52)\n",
    "bst = binary_tree_insert(bst, \"alec\", 5)\n",
    "bst = binary_tree_insert(bst, \"jim\", 17)"
   ]
  },
  {
   "cell_type": "code",
   "execution_count": 26,
   "metadata": {},
   "outputs": [
    {
     "name": "stdout",
     "output_type": "stream",
     "text": [
      "mustafa: 25 \n",
      "-jane: 15 (my parent is mustafa)\n",
      "--alec: 5 (my parent is jane)\n",
      "--jim: 17 (my parent is jane)\n",
      "-jack: 100 (my parent is mustafa)\n",
      "--ben: 38 (my parent is jack)\n",
      "---madison: 52 (my parent is ben)\n"
     ]
    }
   ],
   "source": [
    "binary_tree_print(bst)"
   ]
  },
  {
   "cell_type": "code",
   "execution_count": 39,
   "metadata": {},
   "outputs": [],
   "source": [
    "def search_bst(tree, value): \n",
    "    if tree is None: \n",
    "        return\n",
    "    ## TODO: Return when we find the value!!!\n",
    "    print(f\"looking at node {tree.key}\")\n",
    "    if tree.value > value: \n",
    "        print(f\"going left\")\n",
    "        search_bst(tree.left, value)\n",
    "    else: \n",
    "        print(f\"going right\")\n",
    "        search_bst(tree.right, value)"
   ]
  },
  {
   "cell_type": "code",
   "execution_count": 40,
   "metadata": {},
   "outputs": [
    {
     "name": "stdout",
     "output_type": "stream",
     "text": [
      "looking at node mustafa\n",
      "going left\n",
      "looking at node jane\n",
      "going right\n",
      "looking at node jim\n",
      "going right\n"
     ]
    }
   ],
   "source": [
    "search_bst(bst, 17)"
   ]
  },
  {
   "cell_type": "code",
   "execution_count": 43,
   "metadata": {},
   "outputs": [],
   "source": [
    "def binary_tree_pprint(root, level): \n",
    "    if root is None:\n",
    "        return\n",
    "    for i in range(level):\n",
    "        print(\"-\", end=\"\")\n",
    "    print(f\"{root.key}: {root.value}\")\n",
    "    binary_tree_pprint(root.left, level + 1)\n",
    "    binary_tree_pprint(root.right, level + 1)"
   ]
  },
  {
   "cell_type": "code",
   "execution_count": 44,
   "metadata": {},
   "outputs": [
    {
     "name": "stdout",
     "output_type": "stream",
     "text": [
      "mustafa: 25\n",
      "-jane: 15\n",
      "--alec: 5\n",
      "--jim: 17\n",
      "-jack: 100\n",
      "--ben: 38\n",
      "---madison: 52\n"
     ]
    }
   ],
   "source": [
    "binary_tree_pprint(bst, 0)"
   ]
  },
  {
   "cell_type": "markdown",
   "metadata": {},
   "source": [
    "### BST Remove"
   ]
  },
  {
   "cell_type": "code",
   "execution_count": 39,
   "metadata": {},
   "outputs": [],
   "source": [
    "\n",
    "## Assume that the node has already been found/is provided\n",
    "## node is the node to remove\n",
    "def binary_tree_remove(node): \n",
    "    ## Case 1: No children-- easy peasy\n",
    "    if not node.left and not node.right:\n",
    "        ## Tell the parent to not point at this node anymore\n",
    "        node.parent = None\n",
    "        ## TODO: Remove the Left/Right child of the parent (whichever this one is)\n",
    "        ## Then return\n",
    "        return node\n",
    "    ## Case 2: 2 children-- most complicated\n",
    "    if node.left and node.right: \n",
    "        to_delete = node\n",
    "        successor = bst_successor(node) ## Node with the next highest value in the tree\n",
    "        node.key = successor.key\n",
    "        node.value = successor.value\n",
    "        return binary_tree_remove(successor) ## Note: this is NOT the node that was passed in! It's the one that will be deleted \n",
    "    ## Case 3a: 1 child, just a left child\n",
    "    if node.left: \n",
    "        ## Tell the parent to point to the left child instead of this\n",
    "        if node.parent.left == node: ## If this node is the left child of the parent, replace the left childe\n",
    "            node.parent.left = node.left \n",
    "        else: \n",
    "            node.parent.right = node.right; \n",
    "        return node\n",
    "    ## Case 3b: 1 child, just a right child\n",
    "    if node.right: \n",
    "        ## Tell the parent to point to the right child instead of this\n",
    "        if node.parent.left == node:\n",
    "            node.parent.left = node.right\n",
    "        else:\n",
    "            node.parent.right = node.right\n",
    "        return node"
   ]
  },
  {
   "cell_type": "code",
   "execution_count": 27,
   "metadata": {},
   "outputs": [],
   "source": [
    "def bst_successor(node):\n",
    "    if node.right is not None: \n",
    "        ## The successor is the smallest value in the right child\n",
    "        return bst_minimum(node.right)\n",
    "    y = node.parent\n",
    "    while y is not None and node == y.right:\n",
    "        ## There is a parent, and the node we're at is NOT the right child \n",
    "        ##   (that means the parent value is smaller than the current value)\n",
    "        ## Keep going until we find a parent that \"is bigger than us\"-- \n",
    "        ##   e.g. we are a left child of the parent\n",
    "        node = y\n",
    "        y = y.parent\n",
    "\n",
    "    return y\n",
    "\n",
    "## Go as far down to the left as possible\n",
    "def bst_minimum(node):\n",
    "    while node.left:\n",
    "        node = node.left\n",
    "    return node"
   ]
  },
  {
   "cell_type": "code",
   "execution_count": 29,
   "metadata": {},
   "outputs": [
    {
     "name": "stdout",
     "output_type": "stream",
     "text": [
      "mustafa: 25 \n",
      "-jane: 15 (my parent is mustafa)\n",
      "--alec: 5 (my parent is jane)\n",
      "--jim: 17 (my parent is jane)\n",
      "-jack: 100 (my parent is mustafa)\n",
      "--ben: 38 (my parent is jack)\n",
      "---madison: 52 (my parent is ben)\n"
     ]
    }
   ],
   "source": [
    "binary_tree_print(bst)"
   ]
  },
  {
   "cell_type": "code",
   "execution_count": 32,
   "metadata": {},
   "outputs": [],
   "source": [
    "def bst_find_val(root, value):\n",
    "    if root.value == value: \n",
    "        return root\n",
    "    if value < root.value: \n",
    "        return bst_find_val(root.left, value)\n",
    "    else: \n",
    "        return bst_find_val(root.right, value)\n",
    "    "
   ]
  },
  {
   "cell_type": "code",
   "execution_count": 33,
   "metadata": {},
   "outputs": [],
   "source": [
    "jane_node = bst_find_val(bst, 15)"
   ]
  },
  {
   "cell_type": "code",
   "execution_count": 34,
   "metadata": {},
   "outputs": [
    {
     "name": "stdout",
     "output_type": "stream",
     "text": [
      "<__main__.BinaryTreeNode object at 0x10b68eeb0>\n"
     ]
    }
   ],
   "source": [
    "print(jane_node)\n"
   ]
  },
  {
   "cell_type": "code",
   "execution_count": 35,
   "metadata": {},
   "outputs": [
    {
     "data": {
      "text/plain": [
       "'jane'"
      ]
     },
     "execution_count": 35,
     "metadata": {},
     "output_type": "execute_result"
    }
   ],
   "source": [
    "jane_node.key\n"
   ]
  },
  {
   "cell_type": "code",
   "execution_count": 36,
   "metadata": {},
   "outputs": [],
   "source": [
    "removed_node = binary_tree_remove(jane_node)"
   ]
  },
  {
   "cell_type": "code",
   "execution_count": 37,
   "metadata": {},
   "outputs": [
    {
     "data": {
      "text/plain": [
       "'jim'"
      ]
     },
     "execution_count": 37,
     "metadata": {},
     "output_type": "execute_result"
    }
   ],
   "source": [
    "removed_node.key"
   ]
  },
  {
   "cell_type": "code",
   "execution_count": 38,
   "metadata": {},
   "outputs": [
    {
     "name": "stdout",
     "output_type": "stream",
     "text": [
      "mustafa: 25 \n",
      "-jim: 17 (my parent is mustafa)\n",
      "--alec: 5 (my parent is jim)\n",
      "--jim: 17 \n",
      "-jack: 100 (my parent is mustafa)\n",
      "--ben: 38 (my parent is jack)\n",
      "---madison: 52 (my parent is ben)\n"
     ]
    }
   ],
   "source": [
    "binary_tree_print(bst)"
   ]
  },
  {
   "cell_type": "markdown",
   "metadata": {},
   "source": [
    "## Heap\n"
   ]
  },
  {
   "cell_type": "code",
   "execution_count": 13,
   "metadata": {},
   "outputs": [],
   "source": [
    "def heap_insert(val, heap = []):\n",
    "    ## Put the new value at the end of the list/first empty spot in the tree\n",
    "    heap.append(val)\n",
    "    ## Bubble up \n",
    "    new_ind = len(heap) - 1\n",
    "    ## Find the parent\n",
    "    par_ind = int((new_ind - 1) / 2)\n",
    "\n",
    "    if new_ind == 0: \n",
    "        return\n",
    "    \n",
    "    print(f\"inserting {val}\")\n",
    "    while heap[par_ind] > heap[new_ind]: \n",
    "        ## While the parent is less important than the currrent node, keep going up\n",
    "        print(f\"new_ind: {new_ind} with value {heap[new_ind]}; par_ind: {par_ind} with value {heap[par_ind]}\")\n",
    "        ## Swap\n",
    "        tmp = heap[par_ind]\n",
    "        heap[par_ind] = heap[new_ind]\n",
    "        heap[new_ind] = tmp\n",
    "        ## Update our indices\n",
    "        new_ind = par_ind\n",
    "        par_ind = int((new_ind - 1) / 2) ## Question from class: Why the '-1' here? "
   ]
  },
  {
   "cell_type": "code",
   "execution_count": 9,
   "metadata": {},
   "outputs": [],
   "source": [
    "def pprint_heap(heap, cur_node_index = 0, level = 0):\n",
    "    if cur_node_index >= len(heap):\n",
    "        return\n",
    "    for i in range(level):\n",
    "        print(\"--\", end=\"\")\n",
    "    print(f\"{heap[cur_node_index]}\")\n",
    "    left_child_ind = cur_node_index * 2 + 1\n",
    "    right_child_ind = left_child_ind + 1\n",
    "    pprint_heap(heap, left_child_ind, level + 1)\n",
    "    pprint_heap(heap, right_child_ind, level + 1)"
   ]
  },
  {
   "cell_type": "code",
   "execution_count": 3,
   "metadata": {},
   "outputs": [
    {
     "name": "stdout",
     "output_type": "stream",
     "text": [
      "[5]\n"
     ]
    }
   ],
   "source": [
    "heap = []\n",
    "heap_insert(5, heap)\n",
    "print(heap)"
   ]
  },
  {
   "cell_type": "code",
   "execution_count": 4,
   "metadata": {},
   "outputs": [
    {
     "name": "stdout",
     "output_type": "stream",
     "text": [
      "inserting 15\n",
      "new_ind: 1; par_ind: 0\n",
      "[5, 15]\n"
     ]
    }
   ],
   "source": [
    "heap_insert(15, heap)\n",
    "print(heap)"
   ]
  },
  {
   "cell_type": "code",
   "execution_count": 5,
   "metadata": {},
   "outputs": [
    {
     "name": "stdout",
     "output_type": "stream",
     "text": [
      "inserting 25\n",
      "new_ind: 2; par_ind: 0\n",
      "[5, 15, 25]\n"
     ]
    }
   ],
   "source": [
    "heap_insert(25, heap)\n",
    "print(heap)"
   ]
  },
  {
   "cell_type": "code",
   "execution_count": 6,
   "metadata": {},
   "outputs": [
    {
     "name": "stdout",
     "output_type": "stream",
     "text": [
      "inserting 11\n",
      "new_ind: 3; par_ind: 1\n",
      "new_ind: 3; par_ind: 1\n",
      "[5, 11, 25, 15]\n"
     ]
    }
   ],
   "source": [
    "heap_insert(11, heap)\n",
    "print(heap)"
   ]
  },
  {
   "cell_type": "code",
   "execution_count": 7,
   "metadata": {},
   "outputs": [
    {
     "name": "stdout",
     "output_type": "stream",
     "text": [
      "inserting 17\n",
      "new_ind: 4; par_ind: 1\n",
      "inserting 10\n",
      "new_ind: 5; par_ind: 2\n",
      "new_ind: 5; par_ind: 2\n",
      "inserting 19\n",
      "new_ind: 6; par_ind: 2\n",
      "inserting 16\n",
      "new_ind: 7; par_ind: 3\n",
      "[5, 11, 10, 15, 17, 25, 19, 16]\n"
     ]
    }
   ],
   "source": [
    "heap_insert(17, heap)\n",
    "heap_insert(10, heap)\n",
    "heap_insert(19, heap)\n",
    "heap_insert(16, heap)\n",
    "print(heap)"
   ]
  },
  {
   "cell_type": "code",
   "execution_count": 15,
   "metadata": {},
   "outputs": [
    {
     "name": "stdout",
     "output_type": "stream",
     "text": [
      "2\n",
      "--3\n",
      "----11\n",
      "------16\n",
      "------15\n",
      "----5\n",
      "------17\n",
      "--10\n",
      "----25\n",
      "----19\n"
     ]
    }
   ],
   "source": [
    "pprint_heap(heap)"
   ]
  },
  {
   "cell_type": "code",
   "execution_count": 11,
   "metadata": {},
   "outputs": [
    {
     "name": "stdout",
     "output_type": "stream",
     "text": [
      "inserting 3\n",
      "new_ind: 8; par_ind: 3\n",
      "new_ind: 8; par_ind: 3\n",
      "new_ind: 3; par_ind: 1\n",
      "new_ind: 1; par_ind: 0\n"
     ]
    }
   ],
   "source": [
    "heap_insert(3, heap)"
   ]
  },
  {
   "cell_type": "code",
   "execution_count": 21,
   "metadata": {},
   "outputs": [
    {
     "name": "stdout",
     "output_type": "stream",
     "text": [
      "inserting 2\n",
      "new_ind: 9 with value 2; par_ind: 4 with value 17\n",
      "new_ind: 4 with value 2; par_ind: 1 with value 5\n",
      "new_ind: 1 with value 2; par_ind: 0 with value 3\n"
     ]
    }
   ],
   "source": [
    "heap_insert(2, heap)"
   ]
  },
  {
   "cell_type": "code",
   "execution_count": 36,
   "metadata": {},
   "outputs": [],
   "source": [
    "def extract_min(heap): \n",
    "    if len(heap) == 1: \n",
    "        return heap.pop()\n",
    "    ## Get the minimum value from the array\n",
    "    min_val = heap[0]\n",
    "    \n",
    "    ## Move the last value to the first slot\n",
    "    heap[0] = heap.pop()\n",
    "\n",
    "    ## Bubble that down\n",
    "    new_ind = 0\n",
    "    ## Find most important child\n",
    "    left_child = 1\n",
    "    right_child = 2\n",
    "    ## Bah, very clunky way of making sure the node actually has children!! \n",
    "    if left_child > len(heap)-1: \n",
    "        return min_val ## We have no other values in the heap!\n",
    "    if right_child > len(heap) -1: \n",
    "        child_ind = left_child\n",
    "    else: \n",
    "        child_ind = left_child if heap[left_child] < heap[right_child] else right_child\n",
    "\n",
    "    # print(f\"inserting {val}\")\n",
    "    while heap[child_ind] < heap[new_ind]: \n",
    "        ## While the current is less important than the child node, keep going up\n",
    "        print(f\"new_ind: {new_ind} with value {heap[new_ind]}; child_ind: {child_ind} with value {heap[child_ind]}\")\n",
    "        ## Swap\n",
    "        tmp = heap[child_ind]\n",
    "        heap[child_ind] = heap[new_ind]\n",
    "        heap[new_ind] = tmp\n",
    "        ## Update our indices\n",
    "        new_ind = child_ind\n",
    "        left_child = 2 * new_ind + 1\n",
    "        right_child = left_child + 1\n",
    "        ## Bah, very clunky way of making sure the node actually has children!! \n",
    "        if left_child > len(heap)-1: \n",
    "            break\n",
    "        if right_child > len(heap) -1: \n",
    "            child_ind = left_child\n",
    "        else:  \n",
    "            child_ind = left_child if heap[left_child] < heap[right_child] else right_child\n",
    "\n",
    "    return min_val"
   ]
  },
  {
   "cell_type": "code",
   "execution_count": 23,
   "metadata": {},
   "outputs": [
    {
     "name": "stdout",
     "output_type": "stream",
     "text": [
      "new_ind: 0 with value 17; child_ind: 1 with value 3\n",
      "new_ind: 1 with value 17; child_ind: 4 with value 5\n"
     ]
    }
   ],
   "source": [
    "min_from_heap = extract_min(heap)"
   ]
  },
  {
   "cell_type": "code",
   "execution_count": 22,
   "metadata": {},
   "outputs": [
    {
     "name": "stdout",
     "output_type": "stream",
     "text": [
      "[2, 3, 10, 11, 5, 25, 19, 16, 15, 17]\n"
     ]
    }
   ],
   "source": [
    "print(heap)"
   ]
  },
  {
   "cell_type": "code",
   "execution_count": 24,
   "metadata": {},
   "outputs": [
    {
     "name": "stdout",
     "output_type": "stream",
     "text": [
      "2\n"
     ]
    }
   ],
   "source": [
    "print(min_from_heap)"
   ]
  },
  {
   "cell_type": "code",
   "execution_count": 25,
   "metadata": {},
   "outputs": [
    {
     "name": "stdout",
     "output_type": "stream",
     "text": [
      "3\n",
      "--5\n",
      "----11\n",
      "------16\n",
      "------15\n",
      "----17\n",
      "--10\n",
      "----25\n",
      "----19\n"
     ]
    }
   ],
   "source": [
    "pprint_heap(heap)"
   ]
  },
  {
   "cell_type": "markdown",
   "metadata": {},
   "source": [
    "## Heap-Sort"
   ]
  },
  {
   "cell_type": "code",
   "execution_count": 30,
   "metadata": {},
   "outputs": [],
   "source": [
    "def heap_sort(items): \n",
    "    heap = []\n",
    "    ## Put all the items in\n",
    "    for i in items: \n",
    "        heap_insert(i, heap)\n",
    "    sorted = []\n",
    "    ## Take all the items out\n",
    "    while len(heap) > 0:\n",
    "        sorted.append(extract_min(heap))\n",
    "    return sorted"
   ]
  },
  {
   "cell_type": "code",
   "execution_count": 37,
   "metadata": {},
   "outputs": [
    {
     "name": "stdout",
     "output_type": "stream",
     "text": [
      "inserting 19\n",
      "inserting 42\n",
      "inserting 2\n",
      "new_ind: 3 with value 2; par_ind: 1 with value 19\n",
      "new_ind: 1 with value 2; par_ind: 0 with value 5\n",
      "inserting 8\n",
      "inserting 12\n",
      "new_ind: 5 with value 12; par_ind: 2 with value 42\n",
      "inserting 6\n",
      "new_ind: 6 with value 6; par_ind: 2 with value 12\n",
      "new_ind: 0 with value 12; child_ind: 1 with value 5\n",
      "new_ind: 1 with value 12; child_ind: 4 with value 8\n",
      "new_ind: 0 with value 42; child_ind: 2 with value 6\n",
      "new_ind: 0 with value 12; child_ind: 1 with value 8\n",
      "new_ind: 0 with value 19; child_ind: 1 with value 12\n",
      "new_ind: 0 with value 42; child_ind: 1 with value 19\n",
      "[2, 5, 6, 8, 12, 19, 42]\n"
     ]
    }
   ],
   "source": [
    "input_list = [5, 19, 42, 2, 8, 12, 6]\n",
    "sorted_list = heap_sort(input_list)\n",
    "print(sorted_list)"
   ]
  },
  {
   "cell_type": "code",
   "execution_count": 38,
   "metadata": {},
   "outputs": [
    {
     "name": "stdout",
     "output_type": "stream",
     "text": [
      "[2, 5, 6, 8, 12, 19, 42]\n"
     ]
    }
   ],
   "source": [
    "print(sorted_list)"
   ]
  },
  {
   "cell_type": "code",
   "execution_count": null,
   "metadata": {},
   "outputs": [],
   "source": []
  }
 ],
 "metadata": {
  "kernelspec": {
   "display_name": "Python 3 (ipykernel)",
   "language": "python",
   "name": "python3"
  },
  "language_info": {
   "codemirror_mode": {
    "name": "ipython",
    "version": 3
   },
   "file_extension": ".py",
   "mimetype": "text/x-python",
   "name": "python",
   "nbconvert_exporter": "python",
   "pygments_lexer": "ipython3",
   "version": "3.9.7"
  }
 },
 "nbformat": 4,
 "nbformat_minor": 4
}
