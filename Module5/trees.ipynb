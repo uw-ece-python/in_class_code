{
 "cells": [
  {
   "cell_type": "code",
   "execution_count": 7,
   "metadata": {},
   "outputs": [],
   "source": [
    "class TreeNode: \n",
    "    def __init__(self, payload): \n",
    "        self.payload = payload\n",
    "        self.left = None\n",
    "        self.right = None\n",
    "        self.parent = None\n",
    "\n",
    "    def print(self): \n",
    "        print(f\"My payload: {self.payload}\")\n"
   ]
  },
  {
   "cell_type": "code",
   "execution_count": 5,
   "metadata": {},
   "outputs": [],
   "source": [
    "class Tree: \n",
    "    def __init__(self): \n",
    "        self.root = None\n",
    "\n",
    "    \n"
   ]
  },
  {
   "cell_type": "code",
   "execution_count": 21,
   "metadata": {},
   "outputs": [],
   "source": [
    "def print_tree(tree): \n",
    "    if tree is None: \n",
    "        return\n",
    "    tree.print()\n",
    "    print_tree(tree.left)\n",
    "    print_tree(tree.right)"
   ]
  },
  {
   "cell_type": "code",
   "execution_count": 22,
   "metadata": {},
   "outputs": [],
   "source": [
    "\n",
    "my_tree = TreeNode(\"root\")\n",
    "my_tree.left = TreeNode(\"left1\")\n",
    "my_tree.right = TreeNode(\"right1\")\n",
    "my_tree.left.left = TreeNode(\"left2\")\n",
    "my_tree.left.right = TreeNode(\"right2\")"
   ]
  },
  {
   "cell_type": "code",
   "execution_count": 23,
   "metadata": {},
   "outputs": [
    {
     "name": "stdout",
     "output_type": "stream",
     "text": [
      "My payload: root\n",
      "My payload: left1\n",
      "My payload: left2\n",
      "My payload: right2\n",
      "My payload: right1\n"
     ]
    }
   ],
   "source": [
    "print_tree(my_tree)"
   ]
  },
  {
   "cell_type": "code",
   "execution_count": 3,
   "metadata": {},
   "outputs": [],
   "source": [
    "class BinaryTreeNode: \n",
    "    def __init__(self, key, value): \n",
    "        self.key = key\n",
    "        self.value = value\n",
    "        self.left = None\n",
    "        self.right = None\n",
    "        self.parent = None\n",
    "        "
   ]
  },
  {
   "cell_type": "code",
   "execution_count": 16,
   "metadata": {},
   "outputs": [],
   "source": [
    "def binary_tree_insert(root, key, value): \n",
    "    if not root: \n",
    "        root = BinaryTreeNode(key, value) \n",
    "    else: \n",
    "        if key < root.key: \n",
    "            root.left = binary_tree_insert(root.left, key, value)\n",
    "        else: \n",
    "            root.right = binary_tree_insert(root.right, key, value)\n",
    "    return root\n",
    "        "
   ]
  },
  {
   "cell_type": "markdown",
   "metadata": {},
   "source": [
    "Re-writing the insert to populate the parent field"
   ]
  },
  {
   "cell_type": "code",
   "execution_count": 4,
   "metadata": {},
   "outputs": [],
   "source": [
    "def binary_tree_insert(root, key, value): \n",
    "    if not root: \n",
    "        root = BinaryTreeNode(key, value) \n",
    "    else: \n",
    "        if value < root.value: \n",
    "            root.left = binary_tree_insert(root.left, key, value)\n",
    "            root.left.parent = root\n",
    "        else: \n",
    "            root.right = binary_tree_insert(root.right, key, value)\n",
    "            root.right.parent = root\n",
    "    return root\n",
    "        "
   ]
  },
  {
   "cell_type": "code",
   "execution_count": 6,
   "metadata": {},
   "outputs": [],
   "source": [
    "\n",
    "## Assume that the node has already been found/is provided\n",
    "## node is the node to remove\n",
    "def binary_tree_remove(node, key, value): ## Kinda don't really care about key/value here\n",
    "    if not node.left and not node.right:\n",
    "        ## Tell the parent to not point at this node anymore\n",
    "        node.parent = None\n",
    "        ## Then return\n",
    "        return node\n",
    "    if node.left and node.right: \n",
    "        to_delete = node\n",
    "        successor = bst_successor(node)\n",
    "        node.key = successor.key\n",
    "        node.value = successor.value\n",
    "        return successor ## Note: this is NOT the node that was passed in! It's the one that will be deleted \n",
    "    if node.left: \n",
    "        ## Tell the parent to point to the left child instead of this\n",
    "        if node.parent.left == node: ## If this node is the left child of the parent, replace the left childe\n",
    "            node.parent.left = node.left \n",
    "        else: \n",
    "            node.parent.right = node.right; \n",
    "        return node\n",
    "    if node.right: \n",
    "        ## Tell the parent to point to the right child instead of this\n",
    "        if node.parent.left == node:\n",
    "            node.parent.left = node.right\n",
    "        else:\n",
    "            node.parent.right = node.right\n",
    "        return node\n",
    "    \n",
    "        "
   ]
  },
  {
   "cell_type": "code",
   "execution_count": 14,
   "metadata": {},
   "outputs": [],
   "source": [
    "## TODO: NOT DONE\n",
    "## Assume that the node has already been found/is provided\n",
    "## node is the node to remove\n",
    "def binary_tree_remove(node, key, value): ## Kinda don't really care about key/value here\n",
    "    if not node.left and not node.right:\n",
    "        ## Tell the parent to not point at this node anymore\n",
    "        node.parent = None\n",
    "        ## Then return\n",
    "        return node\n",
    "    if node.left and node.right: \n",
    "        to_delete = node\n",
    "        successor = bst_successor(node)\n",
    "        node.key = successor.key\n",
    "        node.value = successor.value\n",
    "        return successor ## Note: this is NOT the node that was passed in! It's the one that will be deleted \n",
    "    if node.left: \n",
    "        ## Tell the parent to point to the left child instead of this\n",
    "        if node.parent.left == node: ## If this node is the left child of the parent, replace the left childe\n",
    "            node.parent.left = node.left \n",
    "        else: \n",
    "            node.parent.right = node.right; \n",
    "        return node\n",
    "    if node.right: \n",
    "        ## Tell the parent to point to the right child instead of this\n",
    "        if node.parent.left == node:\n",
    "            node.parent.left = node.right\n",
    "        else:\n",
    "            node.parent.right = node.right\n",
    "        return node\n",
    "    \n",
    "        "
   ]
  },
  {
   "cell_type": "code",
   "execution_count": 14,
   "metadata": {},
   "outputs": [],
   "source": [
    "## TODO: Copied from CLRS, not tested\n",
    "## Assume that the node has already been found/is provided\n",
    "## node is the node to remove\n",
    "def binary_tree_remove_clrs(node, key, value): ## Kinda don't really care about key/value here\n",
    "    x, y = None\n",
    "    if not node.left or not node.right: \n",
    "        y = node\n",
    "    else: \n",
    "        y = binary_tree_successor(node)\n",
    "\n",
    "    if y.left not None: \n",
    "        x = y.left\n",
    "    else: \n",
    "        x = y.right\n",
    "\n",
    "    if x not None: \n",
    "        x.parent = y.parent\n",
    "\n",
    "    if y.parent is None: \n",
    "        ## root of tree = x\n",
    "        pass\n",
    "    else: \n",
    "        if y = y.parent.left: \n",
    "            y.parent.left = x\n",
    "        else: \n",
    "            y.parent.right = x\n",
    "\n",
    "    if y != z: \n",
    "        z.key = y.key\n",
    "        z.value = y.value\n",
    "\n",
    "    return y\n",
    "    \n",
    "    \n",
    "        "
   ]
  },
  {
   "cell_type": "code",
   "execution_count": 7,
   "metadata": {},
   "outputs": [],
   "source": [
    "# Adapted from CLRS, not tested\n",
    "def bst_successor(node):\n",
    "    if node.right is not None: \n",
    "        ## The successor is the smallest value in the right child\n",
    "        return bst_minimum(node.right)\n",
    "    y = node.parent\n",
    "    while y is not None and node == y.right:\n",
    "        node = y\n",
    "        y = y.parent\n",
    "\n",
    "    return y\n",
    "    \n",
    "    \n",
    "    \n",
    "        "
   ]
  },
  {
   "cell_type": "code",
   "execution_count": 8,
   "metadata": {},
   "outputs": [],
   "source": [
    "def bst_successor(node):\n",
    "    if node.right is not None: \n",
    "        ## The successor is the smallest value in the right child\n",
    "        return bst_minimum(node.right)\n",
    "    y = node.parent\n",
    "    while y is not None and node == y.right:\n",
    "        node = y\n",
    "        y = y.parent\n",
    "\n",
    "    return y\n",
    "\n",
    "## Go as far down to the left as possible\n",
    "def bst_minimum(node):\n",
    "    while node.left:\n",
    "        node = node.left\n",
    "    return node\n",
    "    \n",
    "    \n",
    "    \n",
    "        "
   ]
  },
  {
   "cell_type": "code",
   "execution_count": 14,
   "metadata": {},
   "outputs": [],
   "source": [
    "## Copied from CLRS; not tested\n",
    "def binary_tree_insert_clrs(root, z): \n",
    "    y = None\n",
    "    x = root\n",
    "    while x is not None: \n",
    "        y = x\n",
    "        if z.key < x.key: \n",
    "            x = x.left\n",
    "        else: \n",
    "            x = x.right\n",
    "    x.parent = y\n",
    "    if y is None: \n",
    "        root = z\n",
    "    else:\n",
    "        if z.key < y.key:\n",
    "            y.left = z\n",
    "        else:\n",
    "            y.right = z \n",
    "    \n",
    "    \n",
    "        "
   ]
  },
  {
   "cell_type": "code",
   "execution_count": 14,
   "metadata": {},
   "outputs": [],
   "source": [
    "# Copied from CLRS, not tested\n",
    "def binary_tree_successor(x):\n",
    "    if x.right is not None: \n",
    "        return tree_minimum(x.right)\n",
    "    y = x.parent\n",
    "    while y is not None and x = y.right:\n",
    "        x = y\n",
    "        y = y.parent\n",
    "\n",
    "    return y\n",
    "    \n",
    "    \n",
    "    \n",
    "        "
   ]
  },
  {
   "cell_type": "code",
   "execution_count": 19,
   "metadata": {},
   "outputs": [],
   "source": [
    "def binary_tree_print(root, level = 0): \n",
    "    if root is None:\n",
    "        return\n",
    "    for i in range(level):\n",
    "        print(\"-\", end=\"\")\n",
    "    print(f\"{root.key}: {root.value} \", end=\"\")\n",
    "    if root.parent: \n",
    "        print(f\"(my parent is {root.parent.key})\")\n",
    "    else: \n",
    "        print(\"\")\n",
    "    binary_tree_print(root.left, level + 1)\n",
    "    binary_tree_print(root.right, level + 1)"
   ]
  },
  {
   "cell_type": "code",
   "execution_count": 10,
   "metadata": {},
   "outputs": [],
   "source": [
    "bst = binary_tree_insert(None, \"mustafa\", 25)\n",
    "bst = binary_tree_insert(bst, \"jane\", 15)\n",
    "bst = binary_tree_insert(bst, \"jack\", 100)\n",
    "bst = binary_tree_insert(bst, \"ben\", 38)\n",
    "bst = binary_tree_insert(bst, \"madison\", 52)\n",
    "bst = binary_tree_insert(bst, \"alec\", 5)\n",
    "bst = binary_tree_insert(bst, \"jim\", 17)"
   ]
  },
  {
   "cell_type": "code",
   "execution_count": 15,
   "metadata": {},
   "outputs": [
    {
     "name": "stdout",
     "output_type": "stream",
     "text": [
      "mustafa: 25 \n",
      "-jane: 15 (my parent is mustafa)\n",
      "--alec: 5 (my parent is jane)\n",
      "--jim: 17 (my parent is jane)\n",
      "-jack: 100 (my parent is mustafa)\n",
      "--ben: 38 (my parent is jack)\n",
      "---madison: 52 (my parent is ben)\n"
     ]
    }
   ],
   "source": [
    "binary_tree_print(bst, 0)\n"
   ]
  },
  {
   "cell_type": "code",
   "execution_count": 12,
   "metadata": {},
   "outputs": [],
   "source": [
    "def bst_search(root, value):\n",
    "    if root.value == value: \n",
    "        return root\n",
    "    if root.value < value: \n",
    "        return bst_search(root.right, value)\n",
    "    else: \n",
    "        return bst_search(root.left, value)"
   ]
  },
  {
   "cell_type": "code",
   "execution_count": 13,
   "metadata": {},
   "outputs": [],
   "source": [
    "jane = bst_search(bst, 15)"
   ]
  },
  {
   "cell_type": "code",
   "execution_count": 14,
   "metadata": {},
   "outputs": [
    {
     "name": "stdout",
     "output_type": "stream",
     "text": [
      "<__main__.BinaryTreeNode object at 0x10bdc03a0>\n"
     ]
    }
   ],
   "source": [
    "print(jane)"
   ]
  },
  {
   "cell_type": "code",
   "execution_count": 17,
   "metadata": {},
   "outputs": [
    {
     "ename": "TypeError",
     "evalue": "binary_tree_print() missing 1 required positional argument: 'level'",
     "output_type": "error",
     "traceback": [
      "\u001b[0;31m---------------------------------------------------------------------------\u001b[0m",
      "\u001b[0;31mTypeError\u001b[0m                                 Traceback (most recent call last)",
      "Cell \u001b[0;32mIn[17], line 2\u001b[0m\n\u001b[1;32m      1\u001b[0m removed \u001b[38;5;241m=\u001b[39m binary_tree_remove(jane, \u001b[38;5;124m\"\u001b[39m\u001b[38;5;124mjane\u001b[39m\u001b[38;5;124m\"\u001b[39m, \u001b[38;5;241m15\u001b[39m)\n\u001b[0;32m----> 2\u001b[0m \u001b[43mbinary_tree_print\u001b[49m\u001b[43m(\u001b[49m\u001b[43mbst\u001b[49m\u001b[43m)\u001b[49m\n",
      "\u001b[0;31mTypeError\u001b[0m: binary_tree_print() missing 1 required positional argument: 'level'"
     ]
    }
   ],
   "source": [
    "removed = binary_tree_remove(jane, \"jane\", 15)\n",
    "binary_tree_print(bst, 0)"
   ]
  },
  {
   "cell_type": "code",
   "execution_count": 18,
   "metadata": {},
   "outputs": [
    {
     "name": "stdout",
     "output_type": "stream",
     "text": [
      "mustafa: 25 \n",
      "-jim: 17 (my parent is mustafa)\n",
      "--alec: 5 (my parent is jim)\n",
      "--jim: 17 (my parent is jim)\n",
      "-jack: 100 (my parent is mustafa)\n",
      "--ben: 38 (my parent is jack)\n",
      "---madison: 52 (my parent is ben)\n"
     ]
    }
   ],
   "source": [
    "binary_tree_print(bst, 0)"
   ]
  },
  {
   "cell_type": "markdown",
   "metadata": {},
   "source": [
    "## Heap"
   ]
  },
  {
   "cell_type": "code",
   "execution_count": 49,
   "metadata": {},
   "outputs": [],
   "source": [
    "def heap_insert(heap, val):\n",
    "    heap.append(val)\n",
    "    new_ind = len(heap) - 1\n",
    "    par_ind = int(new_ind / 2)\n",
    "    print(f\"inserting {val}\")\n",
    "    print(f\"new_ind: {new_ind}; par_ind: {par_ind}\")\n",
    "    while heap[par_ind] > heap[new_ind]: \n",
    "        print(f\"new_ind: {new_ind}; par_ind: {par_ind}\")\n",
    "        ## Swap\n",
    "        tmp = heap[par_ind]\n",
    "        heap[par_ind] = heap[new_ind]\n",
    "        heap[new_ind] = tmp\n",
    "        ## Update our indices\n",
    "        new_ind = par_ind\n",
    "        par_ind = int((new_ind - 1) / 2)\n",
    "        "
   ]
  },
  {
   "cell_type": "code",
   "execution_count": 13,
   "metadata": {},
   "outputs": [],
   "source": [
    "def heap_insert(heap, val):\n",
    "    heap.append(val)\n",
    "    new_ind = len(heap) - 1\n",
    "    par_ind = int(new_ind / 2)\n",
    "\n",
    "    while heap[par_ind] > heap[new_ind]: \n",
    "        ## Swap\n",
    "        tmp = heap[par_ind]\n",
    "        heap[par_ind] = heap[new_ind]\n",
    "        heap[new_ind] = tmp\n",
    "        ## Update our indices\n",
    "        new_ind = par_ind\n",
    "        par_ind = int((new_ind - 1) / 2)\n",
    "        "
   ]
  },
  {
   "cell_type": "code",
   "execution_count": 50,
   "metadata": {},
   "outputs": [
    {
     "name": "stdout",
     "output_type": "stream",
     "text": [
      "[]\n"
     ]
    }
   ],
   "source": [
    "heap = []\n",
    "len(heap)\n",
    "print(heap)"
   ]
  },
  {
   "cell_type": "code",
   "execution_count": 51,
   "metadata": {},
   "outputs": [
    {
     "name": "stdout",
     "output_type": "stream",
     "text": [
      "inserting 3\n",
      "new_ind: 0; par_ind: 0\n",
      "[3]\n"
     ]
    }
   ],
   "source": [
    "heap_insert(heap, 3)\n",
    "print(heap)"
   ]
  },
  {
   "cell_type": "code",
   "execution_count": 52,
   "metadata": {},
   "outputs": [
    {
     "name": "stdout",
     "output_type": "stream",
     "text": [
      "inserting 25\n",
      "new_ind: 1; par_ind: 0\n",
      "[3, 25]\n"
     ]
    }
   ],
   "source": [
    "heap_insert(heap, 25)\n",
    "print(heap)"
   ]
  },
  {
   "cell_type": "code",
   "execution_count": 53,
   "metadata": {},
   "outputs": [
    {
     "name": "stdout",
     "output_type": "stream",
     "text": [
      "inserting 5\n",
      "new_ind: 2; par_ind: 1\n",
      "new_ind: 2; par_ind: 1\n",
      "[3, 5, 25]\n"
     ]
    }
   ],
   "source": [
    "heap_insert(heap, 5)\n",
    "print(heap)"
   ]
  },
  {
   "cell_type": "code",
   "execution_count": 54,
   "metadata": {},
   "outputs": [
    {
     "name": "stdout",
     "output_type": "stream",
     "text": [
      "inserting 10\n",
      "new_ind: 3; par_ind: 1\n",
      "inserting 9\n",
      "new_ind: 4; par_ind: 2\n",
      "new_ind: 4; par_ind: 2\n",
      "inserting 11\n",
      "new_ind: 5; par_ind: 2\n",
      "inserting 16\n",
      "new_ind: 6; par_ind: 3\n",
      "inserting 19\n",
      "new_ind: 7; par_ind: 3\n",
      "inserting 15\n",
      "new_ind: 8; par_ind: 4\n",
      "new_ind: 8; par_ind: 4\n"
     ]
    }
   ],
   "source": [
    "heap_insert(heap, 10)\n",
    "heap_insert(heap, 9)\n",
    "heap_insert(heap, 11)\n",
    "heap_insert(heap, 16)\n",
    "heap_insert(heap, 19)\n",
    "heap_insert(heap, 15)"
   ]
  },
  {
   "cell_type": "code",
   "execution_count": 55,
   "metadata": {},
   "outputs": [
    {
     "name": "stdout",
     "output_type": "stream",
     "text": [
      "[3, 5, 9, 10, 15, 11, 16, 19, 25]\n"
     ]
    }
   ],
   "source": [
    "print(heap)"
   ]
  },
  {
   "cell_type": "code",
   "execution_count": 30,
   "metadata": {},
   "outputs": [],
   "source": [
    "heap_insert(heap, 5)"
   ]
  },
  {
   "cell_type": "code",
   "execution_count": 8,
   "metadata": {},
   "outputs": [],
   "source": [
    "def get_min(heap): \n",
    "    print(heap)\n",
    "    target = heap[0]\n",
    "    last = heap.pop()\n",
    "    heap[0] = last\n",
    "    print(heap)\n",
    "    ## bubble down\n",
    "    cur_ind = 0\n",
    "    left_child_ind = 1\n",
    "    right_child_ind = 2\n",
    "    smallest_child_ind = left_child_ind if heap[left_child_ind] < heap[cur_ind] else right_child_ind\n",
    "    \n",
    "    while heap[cur_ind] > heap[smallest_child_ind]: \n",
    "        print(\"bubbling down\")\n",
    "        ## Swap\n",
    "        tmp = heap[cur_ind]\n",
    "        heap[cur_ind] = heap[smallest_child_ind]\n",
    "        heap[smallest_child_ind] = tmp\n",
    "        ## Update our indices\n",
    "        cur_ind = smallest_child_ind\n",
    "        left_child_ind = cur_ind + 1\n",
    "        right_child_ind = cur_ind + 2\n",
    "        ## Check for out of bounds\n",
    "        if left_child_ind >= len(heap): \n",
    "            ## We have no children\n",
    "            return target\n",
    "        if right_child_ind >= len(heap): \n",
    "            ## We have a left child but not a right\n",
    "            smallest_child_ind = left_child_ind\n",
    "        else: \n",
    "            ## We have 2 children, take the smallest\n",
    "            smallest_child_ind = left_child_ind if heap[left_child_ind] < heap[cur_ind] else right_child_ind\n",
    "        print(heap)\n",
    "\n",
    "    return target"
   ]
  },
  {
   "cell_type": "code",
   "execution_count": 10,
   "metadata": {},
   "outputs": [
    {
     "name": "stdout",
     "output_type": "stream",
     "text": [
      "[3, 5, 9, 10, 15, 11, 16, 19, 25]\n",
      "[25, 5, 9, 10, 15, 11, 16, 19]\n",
      "bubbling down\n",
      "[5, 25, 9, 10, 15, 11, 16, 19]\n",
      "bubbling down\n",
      "[5, 9, 25, 10, 15, 11, 16, 19]\n",
      "bubbling down\n",
      "[5, 9, 10, 25, 15, 11, 16, 19]\n",
      "bubbling down\n",
      "[5, 9, 10, 15, 25, 11, 16, 19]\n",
      "bubbling down\n",
      "[5, 9, 10, 15, 11, 25, 16, 19]\n",
      "bubbling down\n",
      "[5, 9, 10, 15, 11, 16, 25, 19]\n",
      "bubbling down\n"
     ]
    },
    {
     "data": {
      "text/plain": [
       "3"
      ]
     },
     "execution_count": 10,
     "metadata": {},
     "output_type": "execute_result"
    }
   ],
   "source": [
    "get_min(heap)"
   ]
  },
  {
   "cell_type": "code",
   "execution_count": 11,
   "metadata": {},
   "outputs": [
    {
     "name": "stdout",
     "output_type": "stream",
     "text": [
      "[5, 9, 10, 15, 11, 16, 19, 25]\n"
     ]
    }
   ],
   "source": [
    "print(heap)"
   ]
  },
  {
   "cell_type": "code",
   "execution_count": 9,
   "metadata": {},
   "outputs": [],
   "source": [
    "heap = [3, 5, 9, 10, 15, 11, 16, 19, 25]"
   ]
  },
  {
   "cell_type": "code",
   "execution_count": null,
   "metadata": {},
   "outputs": [],
   "source": []
  }
 ],
 "metadata": {
  "kernelspec": {
   "display_name": "Python 3 (ipykernel)",
   "language": "python",
   "name": "python3"
  },
  "language_info": {
   "codemirror_mode": {
    "name": "ipython",
    "version": 3
   },
   "file_extension": ".py",
   "mimetype": "text/x-python",
   "name": "python",
   "nbconvert_exporter": "python",
   "pygments_lexer": "ipython3",
   "version": "3.9.7"
  }
 },
 "nbformat": 4,
 "nbformat_minor": 4
}
